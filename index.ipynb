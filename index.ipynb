{
  "cells": [
    {
      "cell_type": "markdown",
      "metadata": {
        "id": "view-in-github",
        "colab_type": "text"
      },
      "source": [
        "<a href=\"https://colab.research.google.com/github/kev065/dsc-word-vectorization-lab/blob/master/index.ipynb\" target=\"_parent\"><img src=\"https://colab.research.google.com/assets/colab-badge.svg\" alt=\"Open In Colab\"/></a>"
      ]
    },
    {
      "cell_type": "markdown",
      "metadata": {
        "id": "gO9OdmDSblVX"
      },
      "source": [
        "# Word Vectorization - Lab\n",
        "\n",
        "## Introduction\n",
        "\n",
        "In this lab, you'll tokenize and vectorize text documents, create and use a bag of words, and identify words unique to individual documents using TF-IDF vectorization.\n",
        "\n",
        "\n",
        "## Objectives\n",
        "\n",
        "In this lab you will:  \n",
        "\n",
        "- Implement tokenization and count vectorization from scratch\n",
        "- Implement TF-IDF from scratch\n",
        "- Use dimensionality reduction on vectorized text data to create and interpret visualizations\n",
        "\n",
        "## Let's get started!\n",
        "\n",
        "Run the cell below to import everything necessary for this lab.  "
      ]
    },
    {
      "cell_type": "code",
      "execution_count": 1,
      "metadata": {
        "id": "MrEfdNe6blVa"
      },
      "outputs": [],
      "source": [
        "import pandas as pd\n",
        "import numpy as np\n",
        "from mpl_toolkits.mplot3d import Axes3D\n",
        "import matplotlib.pyplot as plt\n",
        "%matplotlib inline\n",
        "from sklearn.manifold import TSNE\n",
        "from nltk.tokenize import word_tokenize\n",
        "import nltk\n",
        "nltk.download('punkt', quiet=True)\n",
        "np.random.seed(0)"
      ]
    },
    {
      "cell_type": "markdown",
      "metadata": {
        "id": "tWYJ3N0TblVb"
      },
      "source": [
        "### Our Corpus\n",
        "\n",
        "In this lab, we'll be working with 20 different documents, each containing song lyrics from either Garth Brooks or Kendrick Lamar albums.  \n",
        "\n",
        "The songs are contained within the `data` subdirectory, contained within the same folder as this lab.  Each song is stored in a single file, with files ranging from `song1.txt` to `song20.txt`.  \n",
        "\n",
        "To make it easy to read in all of the documents, use a list comprehension to create a list containing the name of every single song file in the cell below."
      ]
    },
    {
      "cell_type": "code",
      "execution_count": 2,
      "metadata": {
        "id": "AjdFuAdbblVc"
      },
      "outputs": [],
      "source": [
        "filenames = ['song'+str(num)+'.txt' for num in range(1,21)]"
      ]
    },
    {
      "cell_type": "markdown",
      "metadata": {
        "id": "GqCehj3LblVd"
      },
      "source": [
        "import requestsNext, let's import a single song to see what our text looks like so that we can make sure we clean and tokenize it correctly.\n",
        "\n",
        "Use the code in the cell below to read in the lyrics from `song18.txt` as a list of lines, just using vanilla Python:"
      ]
    },
    {
      "cell_type": "code",
      "execution_count": 7,
      "metadata": {
        "id": "zkmYQ-VoblVg",
        "outputId": "f7ddf4a1-cae0-4484-c6af-8727adf00301",
        "colab": {
          "base_uri": "https://localhost:8080/"
        }
      },
      "outputs": [
        {
          "output_type": "stream",
          "name": "stdout",
          "text": [
            "['[Kendrick Lamar:]', \"Two wrongs don't make us right away\", \"Tell me something's wrong\", 'Party all of our lives away', 'To take you on', '[Zacari:]', 'Oh, baby I want you', 'Baby I need you', 'I wanna see you', 'Baby I wanna go out yeah', 'Baby I wanna go out yeah', 'Baby I want you', 'Baby I need you', 'I wanna see you', 'Baby I wanna go out yeah', 'Baby I wanna go out yeah', 'All night (all night, all night)', 'All night', \"Your body's on fire\", 'And your drinks on ice', 'All night (all night, all night)', 'All night', \"Your body's on fire\", 'And your drinks on ice', '[Babes Wodumo:]', 'Oh my word oh my gosh oh my word (Oh my gosh)', 'Oh my word oh my gosh oh my word (Oh my gosh)', 'Oh my word oh my gosh oh my word (Oh my gosh)', 'Oh my word oh my gosh oh my word (Oh my gosh)', 'Everybody say kikiritikiki (kikiritikiki)', 'Everybody say kikiritikiki (kikiritikiki)', 'Everybody say kikiritikiki (kikiritikiki)', 'Everybody say kikiritikiki (kikiritikiki)', \"Ung'bambe, ung'dedele. Ung'bhasobhe, ung'gudluke\", \"Ung'bambe, ung'dedele. Ung'bhasobhe, ung'gudluke\", \"Ung'bambe, ung'dedele. Ung'bhasobhe, ung'gudluke\", \"Ung'bambe, ung'dedele. Ung'bhasobhe, ung'gudluke\", '[Zacari:]', 'Baby I want you', 'Baby I need you', 'I wanna see you', 'Baby I wanna go out yeah', 'Baby I wanna go out yeah', 'Baby I want you', 'Baby I need you', 'I wanna see you', 'Baby I wanna go out yeah', 'Baby I wanna go out yeah', 'All night (all night all night)', 'All night', \"Your body's on fire\", 'And your drinks on ice', 'All night (all night all night)', 'All night', \"Your body's on fire\", 'And your drinks on ice', '[Kendrick Lamar:]', '(We go)', 'High up (High up)', 'High up (High up)', 'High up (High up)', 'High up (High up)', 'High up (High up)', 'High up (High up)', 'High up (High up)', 'High up (High up)', '[?]', '[Zacari:]', 'Baby I want you', 'Baby I need you', 'I wanna see you', 'Baby I wanna go out yeah', 'Baby I wanna go out yeah', 'Baby I want you', 'Baby I need you', 'I wanna see you', 'Baby I wanna go out yeah', 'Baby I wanna go out yeah', 'All night (all night all night)', 'All night', \"Your body's on fire\", 'And your drinks on ice', 'All night (all night all night)', 'All night', \"Your body's on fire\", 'And your drinks on ice']\n"
          ]
        }
      ],
      "source": [
        "import requests\n",
        "\n",
        "url = \"https://raw.githubusercontent.com/kev065/dsc-word-vectorization-lab/master/data/song18.txt\"\n",
        "\n",
        "# Fetch and read the file\n",
        "response = requests.get(url)\n",
        "test_song = response.text.splitlines()\n",
        "\n",
        "# Print the content\n",
        "print(test_song)"
      ]
    },
    {
      "cell_type": "markdown",
      "metadata": {
        "id": "WorBPoItblVi"
      },
      "source": [
        "### Tokenizing our Data\n",
        "\n",
        "Before we can create a bag of words or vectorize each document, we need to clean it up and split each song into an array of individual words.\n",
        "\n",
        "Consider the following sentences from the example above:\n",
        "\n",
        "`\"Two wrongs don't make us right away\\n\", \"Tell me something's wrong\\n\"`\n",
        "\n",
        "After tokenization, this should look like:\n",
        "\n",
        "`['two', 'wrongs', 'dont', 'make', 'us', 'right', 'away', 'tell', 'me', 'somethings', 'wrong']`\n",
        "\n",
        "Tokenization is pretty tedious if we handle it manually, and would probably make use of regular expressions, which is outside the scope of this lab. In order to keep this lab moving, we'll use a library function to clean and tokenize our data so that we can move onto vectorization.  \n",
        "\n",
        "Tokenization is a required task for just about any Natural Language Processing (NLP) task, so great industry-standard tools exist to tokenize things for us, so that we can spend our time on more important tasks without getting bogged down hunting every special symbol or punctuation in a massive dataset. For this lab, we'll make use of the tokenizer in the amazing `nltk` library, which is short for _Natural Language Tool Kit_.\n",
        "\n",
        "**_NOTE:_** NLTK requires extra installation methods to be run the first time certain methods are used.  If `nltk` throws you an error about needing to install additional packages, follow the instructions in the error message to install the dependencies, and then rerun the cell.  "
      ]
    },
    {
      "cell_type": "markdown",
      "metadata": {
        "id": "oQ_j-ccSblVi"
      },
      "source": [
        "Before we tokenize, however, we need to do one more step! Computers are very particular about strings. If we tokenized our data in its current state, we would run into the following problems:\n",
        "\n",
        "- Counting things that aren't actually words.  In the example above, `\"[Kendrick Lamar:]\"` is a note specifying who is speaking, not a lyric contained in the actual song, so it should be removed.\n",
        "- Punctuation and capitalization would mess up our word counts. To the Python interpreter, `all`, `All`, and `(all` are unique words, and would all be counted separately.  We need to remove punctuation and capitalization, so that all words will be counted correctly.\n",
        "\n",
        "Before we tokenize our songs, we'll do only a small manual bit of cleaning.\n",
        "\n",
        "In the cell below, write a function to:\n",
        "- remove lines that just contain `['artist names']`\n",
        "- join the list of strings into one big string for the entire song\n",
        "- remove newline characters `\\n`\n",
        "- remove the following punctuation marks: `\",.'?!()\"`\n",
        "- make every word lowercase\n",
        "\n",
        "Test the function on `test_song` to show that it has successfully removed `'[Kendrick Lamar:]'` and other instances of artist names from the song, and is returning the song as one string (NOT a list of strings) with newlines (`\\n`) and punctuation removed and every word in lowercase."
      ]
    },
    {
      "cell_type": "code",
      "execution_count": 8,
      "metadata": {
        "id": "ajHPipNGblVj",
        "outputId": "10371f14-c8c3-4ecc-8a6d-77f83a052723",
        "colab": {
          "base_uri": "https://localhost:8080/"
        }
      },
      "outputs": [
        {
          "output_type": "stream",
          "name": "stdout",
          "text": [
            "two wrongs dont make us right away tell me somethings wrong party all of our lives away to take you on oh baby i want you baby i need you i wanna see you baby i wanna go out yeah baby i wanna go out yeah baby i want you baby i need you i wanna see you baby i wanna go out yeah baby i wanna go out yeah all night all night all night all night your bodys on fire and your drinks on ice all night all night all night all night your bodys on fire and your drinks on ice oh my word oh my gosh oh my word oh my gosh oh my word oh my gosh oh my word oh my gosh oh my word oh my gosh oh my word oh my gosh oh my word oh my gosh oh my word oh my gosh everybody say kikiritikiki kikiritikiki everybody say kikiritikiki kikiritikiki everybody say kikiritikiki kikiritikiki everybody say kikiritikiki kikiritikiki ungbambe ungdedele ungbhasobhe unggudluke ungbambe ungdedele ungbhasobhe unggudluke ungbambe ungdedele ungbhasobhe unggudluke ungbambe ungdedele ungbhasobhe unggudluke baby i want you baby i need you i wanna see you baby i wanna go out yeah baby i wanna go out yeah baby i want you baby i need you i wanna see you baby i wanna go out yeah baby i wanna go out yeah all night all night all night all night your bodys on fire and your drinks on ice all night all night all night all night your bodys on fire and your drinks on ice we go high up high up high up high up high up high up high up high up high up high up high up high up high up high up high up high up [zacari:] baby i want you baby i need you i wanna see you baby i wanna go out yeah baby i wanna go out yeah baby i want you baby i need you i wanna see you baby i wanna go out yeah baby i wanna go out yeah all night all night all night all night your bodys on fire and your drinks on ice all night all night all night all night your bodys on fire and your drinks on ice\n"
          ]
        }
      ],
      "source": [
        "def clean_song(song):\n",
        "    for line in song:\n",
        "        if '[' in line and ']' in line:\n",
        "            song.remove(line)\n",
        "    song = ' '.join(test_song)\n",
        "    song = song.replace('\\n', '')\n",
        "    punct = [\",\", \".\", \"'\", \"?\", \"!\", \"(\", \")\"]\n",
        "    for p in punct:\n",
        "        song = song.replace(p, '')\n",
        "    song = song.lower()\n",
        "    return song\n",
        "\n",
        "clean_test_song = clean_song(test_song)\n",
        "print(clean_test_song)"
      ]
    },
    {
      "cell_type": "markdown",
      "metadata": {
        "id": "XwafAl83blVk"
      },
      "source": [
        "Great! Now, we can use `nltk`'s `word_tokenize()` function on the song string to get a fully tokenized version of the song. Test this function on `clean_test_song` to ensure that the function works."
      ]
    },
    {
      "cell_type": "code",
      "execution_count": 9,
      "metadata": {
        "id": "ol9KLkqUblVk"
      },
      "outputs": [],
      "source": [
        "tokenized_test_song = word_tokenize(clean_test_song)"
      ]
    },
    {
      "cell_type": "markdown",
      "metadata": {
        "id": "a3U4gfyRblVl"
      },
      "source": [
        "Great! Now that we can tokenize our songs, we can move onto vectorization.\n",
        "\n",
        "\n",
        "### Count Vectorization\n",
        "\n",
        "Machine Learning algorithms don't understand strings. However, they do understand math, which means they understand vectors and matrices.  By **_Vectorizing_** the text, we just convert the entire text into a vector, where each element in the vector represents a different word. The vector is the length of the entire vocabulary -- usually, every word that occurs in the English language, or at least every word that appears in our corpus.  Any given sentence can then be represented as a vector where all the vector is 1 (or some other value) for each time that word appears in the sentence.\n",
        "\n",
        "Consider the following example:\n",
        "\n",
        "<center>\"I scream, you scream, we all scream for ice cream.\"</center>\n",
        "\n",
        "| 'aardvark' | 'apple' | [...] | 'I' | 'you' | 'scream' | 'we' | 'all' | 'for' | 'ice' | 'cream' | [...] | 'xylophone' | 'zebra' |\n",
        "|:----------:|:-------:|:-----:|:---:|:-----:|:--------:|:----:|:-----:|:-----:|:-----:|:-------:|:-----:|:-----------:|:-------:|\n",
        "|      0     |    0    |   0   |  1  |   1   |     3    |   1  |   1   |   1   |   1   |    1    |   0   |      0      |    0    |\n",
        "\n",
        "This is called a **_Sparse Representation_**, since the strong majority of the columns will have a value of 0.  Note that elements corresponding to words that do not occur in the sentence have a value of 0, while words that do appear in the sentence have a value of 1 (or 1 for each time it appears in the sentence).\n",
        "\n",
        "Alternatively, we can represent this sentence as a plain old Python dictionary of word frequency counts:\n",
        "\n",
        "```python\n",
        "BoW = {\n",
        "    'I':1,\n",
        "    'you':1,\n",
        "    'scream':3,\n",
        "    'we':1,\n",
        "    'all':1,\n",
        "    'for':1,\n",
        "    'ice':1,\n",
        "    'cream':1\n",
        "}\n",
        "```\n",
        "\n",
        "Both of these are examples of **_Count Vectorization_**. They allow us to represent a sentence as a vector, with each element in the vector corresponding to how many times that word is used.\n",
        "\n",
        "#### Positional Information and Bag of Words\n",
        "\n",
        "Notice that when we vectorize a sentence this way, we lose the order that the words were in.  This is the **_Bag of Words_** approach mentioned earlier.  Note that sentences that contain the same words will create the same vectors, even if they mean different things -- e.g. `'cats are scared of dogs'` and `'dogs are scared of cats'` would both produce the exact same vector, since they contain the same words.  "
      ]
    },
    {
      "cell_type": "markdown",
      "metadata": {
        "id": "PeqBub-YblVm"
      },
      "source": [
        "In the cell below, create a function that takes in a tokenized, cleaned song and returns a count vectorized representation of it as a Python dictionary.\n",
        "\n",
        "**_Hint:_**  Consider using a `set()` since you'll need each unique word in the tokenized song!"
      ]
    },
    {
      "cell_type": "code",
      "execution_count": 10,
      "metadata": {
        "id": "MfpZ3sJJblVm",
        "outputId": "20ce29c5-fcff-4f80-9086-096e9fcd34e2",
        "colab": {
          "base_uri": "https://localhost:8080/"
        }
      },
      "outputs": [
        {
          "output_type": "stream",
          "name": "stdout",
          "text": [
            "{'two': 1, 'wrongs': 1, 'dont': 1, 'make': 1, 'us': 1, 'right': 1, 'away': 2, 'tell': 1, 'me': 1, 'somethings': 1, 'wrong': 1, 'party': 1, 'all': 25, 'of': 1, 'our': 1, 'lives': 1, 'to': 1, 'take': 1, 'you': 19, 'on': 13, 'oh': 17, 'baby': 24, 'i': 30, 'want': 6, 'need': 6, 'wan': 18, 'na': 18, 'see': 6, 'go': 13, 'out': 12, 'yeah': 12, 'night': 24, 'your': 12, 'bodys': 6, 'fire': 6, 'and': 6, 'drinks': 6, 'ice': 6, 'my': 16, 'word': 8, 'gosh': 8, 'everybody': 4, 'say': 4, 'kikiritikiki': 8, 'ungbambe': 4, 'ungdedele': 4, 'ungbhasobhe': 4, 'unggudluke': 4, 'we': 1, 'high': 16, 'up': 16, '[': 1, 'zacari': 1, ':': 1, ']': 1}\n"
          ]
        }
      ],
      "source": [
        "def count_vectorize(tokenized_song):\n",
        "    token_counts = {}\n",
        "    for token in tokenized_song:\n",
        "        if token not in token_counts:\n",
        "            token_counts[token] = 1\n",
        "        else:\n",
        "            token_counts[token] += 1\n",
        "    return token_counts\n",
        "\n",
        "test_vectorized = count_vectorize(tokenized_test_song)\n",
        "print(test_vectorized)"
      ]
    },
    {
      "cell_type": "markdown",
      "metadata": {
        "id": "7J2-O6sGblVn"
      },
      "source": [
        "Great! You've just successfully vectorized your first text document! Now, let's look at a more advanced type of vectorization, TF-IDF!\n",
        "\n",
        "### TF-IDF Vectorization\n",
        "\n",
        "TF-IDF stands for **_Term Frequency, Inverse Document Frequency_**.  This is a more advanced form of vectorization that weighs each term in a document by how unique it is to the given document it is contained in, which allows us to summarize the contents of a document using a few key words.  If the word is used often in many other documents, it is not unique, and therefore probably not too useful if we wanted to figure out how this document is unique in relation to other documents. Conversely, if a word is used many times in a document, but rarely in all the other documents we are considering, then it is likely a good indicator for telling us that this word is important to the document in question.  \n",
        "\n",
        "The formula TF-IDF uses to determine the weights of each term in a document is **_Term Frequency_** multiplied by **_Inverse Document Frequency_**. We just calculated our Term Frequency above with Count Vectorization!"
      ]
    },
    {
      "cell_type": "markdown",
      "metadata": {
        "id": "WR5IsMpiblVn"
      },
      "source": [
        "Now that we have this, we can easily calculate _Inverse Document Frequency_. Note that this will need ALL of our documents (aka our songs), not just an individual document - so we'll put off testing this function for now.\n",
        "\n",
        "In the cell below, complete a function that takes in a list of tokenized songs, with each item in the list being a clean, tokenized version of the song. The function should return a dictionary containing the inverse document frequency values for each word.  \n",
        "\n",
        "The formula for Inverse Document Frequency is:  \n",
        "<br>  \n",
        "<br>\n",
        "$$\\large \\text{IDF}(t) =  log_e(\\frac{\\text{Total Number of Documents}}{\\text{Number of Documents with } t \\text{ in it}})$$"
      ]
    },
    {
      "cell_type": "code",
      "execution_count": 11,
      "metadata": {
        "id": "EY7vpDuLblVo"
      },
      "outputs": [],
      "source": [
        "def inverse_document_frequency(list_of_token_songs):\n",
        "    idf_dict = {}\n",
        "    total_docs = len(list_of_token_songs)\n",
        "    doc_word_count = {}\n",
        "    for song in list_of_token_songs:\n",
        "        for word in song:\n",
        "            if word not in doc_word_count:\n",
        "                doc_word_count[word] = 1\n",
        "            else:\n",
        "                doc_word_count[word] += 1\n",
        "        idf_dict[word] = np.log(total_docs / doc_word_count[word])\n",
        "    return idf_dict"
      ]
    },
    {
      "cell_type": "markdown",
      "metadata": {
        "id": "RS3tEC9jblVo"
      },
      "source": [
        "### Computing TF-IDF\n",
        "\n",
        "Now that we can compute both Term Frequency and Inverse Document Frequency, computing an overall TF-IDF value is simple! All we need to do is multiply the two values.  \n",
        "\n",
        "In the cell below, complete the `tf_idf()` function.  This function should take in a list of tokenized songs, just as the `inverse_document_frequency()` function did.  This function returns a new list of dictionaries, with each dictionary containing the tf-idf vectorized representation of a corresponding song document. You'll need to calculate the term frequency for each song using the `count_vectorize()` function we defined above.\n",
        "\n",
        "**_NOTE:_** Each document should contain the full vocabulary of the entire combined corpus! So, even if a song doesn't have the word \"kikiritikiki\" (a vocalization in our test song), it should have a dictionary entry with that word as the key and `0` as the value."
      ]
    },
    {
      "cell_type": "code",
      "execution_count": 12,
      "metadata": {
        "id": "8FiXJ3nYblVo"
      },
      "outputs": [],
      "source": [
        "def tf_idf(list_of_token_songs):\n",
        "    tf_idf_list = []\n",
        "    unique_words = []\n",
        "    for token_song in list_of_token_songs:\n",
        "        for word in token_song:\n",
        "            if word not in unique_words:\n",
        "                unique_words.append(word)\n",
        "    idf = inverse_document_frequency(list_of_token_songs)\n",
        "\n",
        "    for song in list_of_token_songs:\n",
        "        tf = count_vectorize(song)\n",
        "        tf_idf = {word:0 for word in unique_words}\n",
        "        for word in unique_words:\n",
        "            if word in song:\n",
        "                tf_idf[word] = tf[word] * idf[word]\n",
        "            else:\n",
        "                tf_idf[word] = 0\n",
        "        tf_idf_list.append(tf_idf)\n",
        "\n",
        "    return tf_idf_list"
      ]
    },
    {
      "cell_type": "markdown",
      "metadata": {
        "id": "aKNqVbJoblVp"
      },
      "source": [
        "### Vectorizing All Documents\n",
        "\n",
        "Now that we've created all the necessary helper functions, we can load in all of our documents and run each through the vectorization pipeline we've just created.\n",
        "\n",
        "In the cell below, complete the `main()` function.  This function should take in a list of file names (provided for you in the `filenames` list we created at the start), and then:\n",
        "\n",
        "- Read in each document into a list of raw songs (where each song is a list of strings)\n",
        "- Tokenize each document into a list of cleaned and tokenized songs\n",
        "- Return a list of dictionaries vectorized using `tf-idf`, where each dictionary is a vectorized representation of each song"
      ]
    },
    {
      "cell_type": "code",
      "source": [
        "# GitHub raw content URLs\n",
        "GITHUB_RAW_URLS = [\n",
        "    \"https://raw.githubusercontent.com/kev065/dsc-word-vectorization-lab/master/data/lyrics_helper.py\",\n",
        "    \"https://raw.githubusercontent.com/kev065/dsc-word-vectorization-lab/master/data/lyrics_url.txt\",\n",
        "    \"https://raw.githubusercontent.com/kev065/dsc-word-vectorization-lab/master/data/song1.txt\",\n",
        "    \"https://raw.githubusercontent.com/kev065/dsc-word-vectorization-lab/master/data/song10.txt\",\n",
        "    \"https://raw.githubusercontent.com/kev065/dsc-word-vectorization-lab/master/data/song11.txt\",\n",
        "    \"https://raw.githubusercontent.com/kev065/dsc-word-vectorization-lab/master/data/song12.txt\",\n",
        "    \"https://raw.githubusercontent.com/kev065/dsc-word-vectorization-lab/master/data/song13.txt\",\n",
        "    \"https://raw.githubusercontent.com/kev065/dsc-word-vectorization-lab/master/data/song14.txt\",\n",
        "    \"https://raw.githubusercontent.com/kev065/dsc-word-vectorization-lab/master/data/song15.txt\",\n",
        "    \"https://raw.githubusercontent.com/kev065/dsc-word-vectorization-lab/master/data/song16.txt\",\n",
        "    \"https://raw.githubusercontent.com/kev065/dsc-word-vectorization-lab/master/data/song17.txt\",\n",
        "    \"https://raw.githubusercontent.com/kev065/dsc-word-vectorization-lab/master/data/song18.txt\",\n",
        "    \"https://raw.githubusercontent.com/kev065/dsc-word-vectorization-lab/master/data/song19.txt\",\n",
        "    \"https://raw.githubusercontent.com/kev065/dsc-word-vectorization-lab/master/data/song2.txt\",\n",
        "    \"https://raw.githubusercontent.com/kev065/dsc-word-vectorization-lab/master/data/song20.txt\",\n",
        "    \"https://raw.githubusercontent.com/kev065/dsc-word-vectorization-lab/master/data/song3.txt\",\n",
        "    \"https://raw.githubusercontent.com/kev065/dsc-word-vectorization-lab/master/data/song4.txt\",\n",
        "    \"https://raw.githubusercontent.com/kev065/dsc-word-vectorization-lab/master/data/song5.txt\",\n",
        "    \"https://raw.githubusercontent.com/kev065/dsc-word-vectorization-lab/master/data/song6.txt\",\n",
        "    \"https://raw.githubusercontent.com/kev065/dsc-word-vectorization-lab/master/data/song7.txt\",\n",
        "    \"https://raw.githubusercontent.com/kev065/dsc-word-vectorization-lab/master/data/song8.txt\",\n",
        "    \"https://raw.githubusercontent.com/kev065/dsc-word-vectorization-lab/master/data/song9.txt\"\n",
        "]"
      ],
      "metadata": {
        "id": "B3aFXUmfkMtQ"
      },
      "execution_count": 14,
      "outputs": []
    },
    {
      "cell_type": "markdown",
      "source": [],
      "metadata": {
        "id": "NhG0B69Ni46O"
      }
    },
    {
      "cell_type": "code",
      "execution_count": 16,
      "metadata": {
        "id": "Xjz5c1pHblVp"
      },
      "outputs": [],
      "source": [
        "import requests\n",
        "from nltk import word_tokenize\n",
        "from math import log\n",
        "\n",
        "def fetch_github_content(url):\n",
        "    response = requests.get(url)\n",
        "    if response.status_code == 200:\n",
        "        return response.text.splitlines()\n",
        "    else:\n",
        "        print(f\"Failed to fetch content from {url}\")\n",
        "        return []\n",
        "\n",
        "def clean_song(song):\n",
        "    # song cleaning\n",
        "    return ' '.join(song).lower()\n",
        "\n",
        "def tf_idf(list_of_token_songs):\n",
        "    tf_idf_list = []\n",
        "    idf = {}\n",
        "    unique_words = set(word for song in list_of_token_songs for word in song)\n",
        "\n",
        "    # Calculate IDF\n",
        "    for word in unique_words:\n",
        "        idf[word] = log(len(list_of_token_songs) / sum(1 for song in list_of_token_songs if word in song))\n",
        "\n",
        "    for song in list_of_token_songs:\n",
        "        tf = {}\n",
        "        for word in song:\n",
        "            tf[word] = tf.get(word, 0) + 1\n",
        "\n",
        "        # Normalize TF\n",
        "        for word in tf:\n",
        "            tf[word] = tf[word] / len(song)\n",
        "\n",
        "        tf_idf = {}\n",
        "        for word in unique_words:\n",
        "            if word in tf:\n",
        "                tf_idf[word] = tf[word] * idf[word]\n",
        "            else:\n",
        "                tf_idf[word] = 0\n",
        "\n",
        "        tf_idf_list.append(tf_idf)\n",
        "\n",
        "    return tf_idf_list\n",
        "\n",
        "def main(github_urls):\n",
        "    # Fetch raw songs from GitHub links\n",
        "    raw_songs = []\n",
        "    for url in github_urls:\n",
        "        song = fetch_github_content(url)\n",
        "        raw_songs.append(clean_song(song))\n",
        "\n",
        "    # Tokenize each document into a list of cleaned and tokenized songs\n",
        "    tokenized_songs = []\n",
        "    for song in raw_songs:\n",
        "        tokenized_songs.append(word_tokenize(song))\n",
        "\n",
        "    # Create list of dictionaries vectorized using tf-idf\n",
        "    tf_idf_list = tf_idf(tokenized_songs)\n",
        "    return tf_idf_list\n",
        "\n",
        "tf_idf_all_docs = main(GITHUB_RAW_URLS)"
      ]
    },
    {
      "cell_type": "markdown",
      "metadata": {
        "id": "j_OzLLucblVq"
      },
      "source": [
        "### Level Up: Visualizing our Vectorizations (Optional)\n",
        "\n",
        "Now that we have a tf-idf representation of each document, we can move on to the fun part -- visualizing everything!\n",
        "\n",
        "In the cell below, examine our dictionaries to figure out how many dimensions our dataset has.\n",
        "\n",
        "**_HINT_**: Remember that every word is its own dimension!"
      ]
    },
    {
      "cell_type": "code",
      "execution_count": 19,
      "metadata": {
        "id": "YufBqLzbblVr",
        "outputId": "1c1f1e7c-a902-4a64-c460-858bf3913951",
        "colab": {
          "base_uri": "https://localhost:8080/"
        }
      },
      "outputs": [
        {
          "output_type": "stream",
          "name": "stdout",
          "text": [
            "Number of Dimensions: 1414\n"
          ]
        }
      ],
      "source": [
        "vocab = list(tf_idf_all_docs[0].keys())\n",
        "num_dims = len(vocab)\n",
        "# Same as:\n",
        "# num_dims = len(tf_idf_all_docs[0])\n",
        "print(f\"Number of Dimensions: {num_dims}\")"
      ]
    },
    {
      "cell_type": "markdown",
      "metadata": {
        "id": "ha7ICfCeblVr"
      },
      "source": [
        "There are too many dimensions for us to visualize! In order to make it understandable to human eyes, we'll need to reduce it to 2 or 3 dimensions.  \n",
        "\n",
        "To do this, we'll use a technique called **_t-SNE_** (short for _t-Stochastic Neighbors Embedding_).  This is too complex for us to code ourselves, so we'll make use of scikit-learn's implementation of it.  \n",
        "\n",
        "First, we need to pull the words out of the dictionaries stored in `tf_idf_all_docs` so that only the values remain, and store them in lists instead of dictionaries.  This is because the t-SNE only works with array-like objects, not dictionaries.  \n",
        "\n",
        "In the cell below, create a list of lists that contains a list representation of the values of each of the dictionaries stored in `tf_idf_all_docs`.  The same structure should remain -- e.g. the first list should contain only the values that were in the first dictionary in `tf_idf_all_docs`, and so on."
      ]
    },
    {
      "cell_type": "code",
      "execution_count": 20,
      "metadata": {
        "id": "uxl6aIUIblVr",
        "outputId": "28bce2df-8601-41d6-c7d2-4d388454caa5",
        "colab": {
          "base_uri": "https://localhost:8080/"
        }
      },
      "outputs": [
        {
          "output_type": "execute_result",
          "data": {
            "text/plain": [
              "[0, 0, 0, 0, 0, 0, 0, 0, 0, 0]"
            ]
          },
          "metadata": {},
          "execution_count": 20
        }
      ],
      "source": [
        "tf_idf_vals_list = []\n",
        "\n",
        "for i in tf_idf_all_docs:\n",
        "    tf_idf_vals_list.append(list(i.values()))\n",
        "\n",
        "tf_idf_vals_list[0][:10]"
      ]
    },
    {
      "cell_type": "markdown",
      "metadata": {
        "id": "A2MlQG6SblVs"
      },
      "source": [
        "Now that we have only the values, we can use the `TSNE()` class from `sklearn` to transform our data appropriately. In the cell below, instantiate `TSNE()` with the following arguments:\n",
        "- `n_components=3` (so we can compare 2 vs 3 components when graphing)\n",
        "- `perplexity=19` (the highest number of neighbors explored given the size of our dataset)\n",
        "- `learning_rate=200` (a higher learning rate than using 'auto', to avoid getting stuck in a local minimum)\n",
        "- `init='random'` (so SKLearn will randomize the initialization)\n",
        "- `random_state=13` (so that random initialization won't be TOO random)\n",
        "\n",
        "Then, use the created object's `.fit_transform()` method to transform the data stored in `tf_idf_vals_list` into 3-dimensional data.  Then, inspect the newly transformed data to confirm that it has the correct dimensionality."
      ]
    },
    {
      "cell_type": "code",
      "execution_count": 21,
      "metadata": {
        "id": "EvSeULrzblVt",
        "outputId": "cb083cf2-c1d7-4e93-c09c-eea4317ed96b",
        "colab": {
          "base_uri": "https://localhost:8080/"
        }
      },
      "outputs": [
        {
          "output_type": "execute_result",
          "data": {
            "text/plain": [
              "array([[  31.076735 , -231.14615  , -190.68033  ],\n",
              "       [  14.181195 , -160.65303  ,  276.3188   ],\n",
              "       [  15.29362  ,   35.549576 , -800.17126  ],\n",
              "       [-455.24435  , -233.38246  ,  479.61746  ],\n",
              "       [-154.02884  ,  -99.51452  ,   14.561801 ],\n",
              "       [ -84.00051  ,   94.73457  ,  186.17767  ],\n",
              "       [ 463.399    ,  268.2445   , -211.68358  ],\n",
              "       [  57.868084 ,  268.38132  ,   62.96937  ],\n",
              "       [-329.9486   ,   89.209305 ,  207.11537  ],\n",
              "       [-145.44086  ,  161.91943  , -114.71035  ],\n",
              "       [  28.321932 , -107.2441   ,  518.4178   ],\n",
              "       [ 202.5104   ,  243.7829   , -183.31837  ],\n",
              "       [ 436.26367  ,  -78.351585 , -183.25554  ],\n",
              "       [-228.6303   , -315.50165  ,  108.76423  ],\n",
              "       [ 399.66544  , -328.33377  ,  269.3216   ],\n",
              "       [-411.5335   ,  219.11423  , -138.60266  ],\n",
              "       [-264.1087   ,  -83.15579  , -222.61885  ],\n",
              "       [  49.45188  ,  459.73273  , -298.42566  ],\n",
              "       [ 320.5014   ,   12.084228 ,   39.90881  ],\n",
              "       [ 106.3568   ,  -91.48451  ,   64.87667  ],\n",
              "       [  76.11659  ,   33.978935 , -173.37743  ],\n",
              "       [  -6.4868474, -434.61215  ,  318.85675  ]], dtype=float32)"
            ]
          },
          "metadata": {},
          "execution_count": 21
        }
      ],
      "source": [
        "t_sne_object_3d = TSNE(n_components = 3,\n",
        "                       perplexity = 19,\n",
        "                       learning_rate = 200,\n",
        "                       init = 'random',\n",
        "                       random_state = 13)\n",
        "\n",
        "transformed_data_3d = t_sne_object_3d.fit_transform(np.array(tf_idf_vals_list))\n",
        "transformed_data_3d"
      ]
    },
    {
      "cell_type": "markdown",
      "metadata": {
        "id": "Gk1MHPCLblVt"
      },
      "source": [
        "We'll also want to check out how the visualization looks in 2d.  Repeat the process above, but this time, instantiate `TSNE()` with 2 components instead of 3.  Again, use `.fit_transform()` to transform the data and store it in the variable below, and then inspect it to confirm the transformed data has only 2 dimensions."
      ]
    },
    {
      "cell_type": "code",
      "execution_count": 24,
      "metadata": {
        "id": "hxYSlHMUblVu",
        "outputId": "962c5c56-7243-48ca-ed7c-4f624fbeba48",
        "colab": {
          "base_uri": "https://localhost:8080/"
        }
      },
      "outputs": [
        {
          "output_type": "execute_result",
          "data": {
            "text/plain": [
              "array([[-181.4468   ,  169.8434   ],\n",
              "       [ 147.85126  , -199.85947  ],\n",
              "       [  95.37857  ,   12.638154 ],\n",
              "       [  37.53926  ,  -43.01911  ],\n",
              "       [-146.75502  ,   62.269756 ],\n",
              "       [ -34.108795 ,  -91.64753  ],\n",
              "       [  44.933075 , -125.227554 ],\n",
              "       [-122.09377  ,  -17.883574 ],\n",
              "       [  62.789463 ,   86.12412  ],\n",
              "       [  12.331681 ,   30.07663  ],\n",
              "       [ -45.045414 , -188.92566  ],\n",
              "       [ 183.18494  ,    3.4396589],\n",
              "       [-123.32105  , -104.29419  ],\n",
              "       [ -86.01163  ,  136.79092  ],\n",
              "       [ -43.627205 ,  -18.604502 ],\n",
              "       [-238.49223  ,  -20.56158  ],\n",
              "       [ 123.99124  ,  -73.52792  ],\n",
              "       [  85.31853  ,  174.31416  ],\n",
              "       [ -10.582757 ,  193.70583  ],\n",
              "       [ -64.28842  ,   54.266052 ],\n",
              "       [ 144.60333  ,   93.628044 ],\n",
              "       [  -7.542995 ,  110.127106 ]], dtype=float32)"
            ]
          },
          "metadata": {},
          "execution_count": 24
        }
      ],
      "source": [
        "t_sne_object_2d = TSNE(n_components = 2,\n",
        "                       perplexity = 19,\n",
        "                       learning_rate = 200,\n",
        "                       init = 'random',\n",
        "                       random_state = 13)\n",
        "transformed_data_2d = t_sne_object_2d.fit_transform(np.array(tf_idf_vals_list))\n",
        "transformed_data_2d"
      ]
    },
    {
      "cell_type": "markdown",
      "metadata": {
        "id": "q1YOMSCpblVv"
      },
      "source": [
        "Now, let's visualize everything!  Run the cell below to view both 3D and 2D visualizations of the songs."
      ]
    },
    {
      "cell_type": "code",
      "execution_count": 25,
      "metadata": {
        "id": "96ZnDjznblVw",
        "outputId": "080bdccf-d890-4cef-e993-82432676d3d8",
        "colab": {
          "base_uri": "https://localhost:8080/",
          "height": 819
        }
      },
      "outputs": [
        {
          "output_type": "display_data",
          "data": {
            "text/plain": [
              "<Figure size 1000x500 with 1 Axes>"
            ],
            "image/png": "[encoded data removed]"
          },
          "metadata": {}
        },
        {
          "output_type": "display_data",
          "data": {
            "text/plain": [
              "<Figure size 2000x1000 with 1 Axes>"
            ],
            "image/png": "[encoded data removed]"
          },
          "metadata": {}
        }
      ],
      "source": [
        "kendrick_3d = transformed_data_3d[:10]\n",
        "k3_x = [i[0] for i in kendrick_3d]\n",
        "k3_y = [i[1] for i in kendrick_3d]\n",
        "k3_z = [i[2] for i in kendrick_3d]\n",
        "\n",
        "garth_3d = transformed_data_3d[10:]\n",
        "g3_x = [i[0] for i in garth_3d]\n",
        "g3_y = [i[1] for i in garth_3d]\n",
        "g3_z = [i[2] for i in garth_3d]\n",
        "\n",
        "fig = plt.figure(figsize=(10,5))\n",
        "ax = fig.add_subplot(111, projection='3d')\n",
        "ax.scatter(k3_x, k3_y, k3_z, c='b', s=60, label='Kendrick')\n",
        "ax.scatter(g3_x, g3_y, g3_z, c='red', s=60, label='Garth')\n",
        "ax.view_init(40,10)\n",
        "ax.legend()\n",
        "plt.show()\n",
        "\n",
        "kendrick_2d = transformed_data_2d[:10]\n",
        "k2_x = [i[0] for i in kendrick_2d]\n",
        "k2_y = [i[1] for i in kendrick_2d]\n",
        "\n",
        "garth_2d = transformed_data_2d[10:]\n",
        "g2_x = [i[0] for i in garth_2d]\n",
        "g2_y = [i[1] for i in garth_2d]\n",
        "\n",
        "fig = plt.figure(figsize=(20,10))\n",
        "ax = fig.add_subplot(222)\n",
        "ax.scatter(k2_x, k2_y, c='b', label='Kendrick')\n",
        "ax.scatter(g2_x, g2_y, c='red', label='Garth')\n",
        "ax.legend()\n",
        "plt.show()"
      ]
    },
    {
      "cell_type": "markdown",
      "metadata": {
        "id": "0ImZr_fGblVx"
      },
      "source": [
        "Interesting! Take a crack at interpreting these graphs by answering the following questions below:\n",
        "\n",
        "What does each graph mean? Do you find one graph more informative than the other? Do you think that this method shows us discernable differences between Kendrick Lamar songs and Garth Brooks songs?  Use the graphs and your understanding of TF-IDF to support your answer.  "
      ]
    },
    {
      "cell_type": "code",
      "execution_count": null,
      "metadata": {
        "id": "jBGwn6ExblVy"
      },
      "outputs": [],
      "source": [
        "'''\n",
        "WRITE YOUR ANSWER HERE\n",
        "'''"
      ]
    },
    {
      "cell_type": "markdown",
      "metadata": {
        "id": "XixfnE1QblVy"
      },
      "source": [
        "## Summary\n",
        "\n",
        "In this lab, you learned how to:\n",
        "* Tokenize a corpus of words and identify the different choices to be made while parsing them\n",
        "* Use a count vectorization strategy to create a bag of words\n",
        "* Use TF-IDF vectorization with multiple documents to identify words that are important/unique to certain documents\n",
        "* Visualize and compare vectorized text documents"
      ]
    }
  ],
  "metadata": {
    "kernelspec": {
      "display_name": "Python 3 (ipykernel)",
      "language": "python",
      "name": "python3"
    },
    "language_info": {
      "codemirror_mode": {
        "name": "ipython",
        "version": 3
      },
      "file_extension": ".py",
      "mimetype": "text/x-python",
      "name": "python",
      "nbconvert_exporter": "python",
      "pygments_lexer": "ipython3",
      "version": "3.10.14"
    },
    "colab": {
      "provenance": [],
      "include_colab_link": true
    }
  },
  "nbformat": 4,
  "nbformat_minor": 0
}